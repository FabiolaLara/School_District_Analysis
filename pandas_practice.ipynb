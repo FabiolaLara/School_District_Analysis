{
 "cells": [
  {
   "cell_type": "code",
   "execution_count": null,
   "id": "c0b97062",
   "metadata": {},
   "outputs": [],
   "source": [
    "# List of high schools\n",
    "high_schools = [\"Hernandez High School\", \"Figueroa High School\", \"Wilson High School\", \"Wright High School\"]"
   ]
  },
  {
   "cell_type": "code",
   "execution_count": null,
   "id": "c14f6dd2",
   "metadata": {},
   "outputs": [],
   "source": [
    "for school in high_schools:\n",
    "    print(school)"
   ]
  },
  {
   "cell_type": "code",
   "execution_count": null,
   "id": "a49e786d",
   "metadata": {},
   "outputs": [],
   "source": [
    "# A dictionary of High schools and the type of school.\n",
    "high_school_types = [{\"High School\": \"Griffin\", \"Type\": \"District\"},\n",
    "                     {\"High School\": \"Figueroa\", \"Type\": \"District\"},\n",
    "                     {\"High School\": \"Wilson\", \"Type\": \"Charter\"},\n",
    "                     {\"High School\": \"Wright\", \"Type\": \"Charter\"}]"
   ]
  },
  {
   "cell_type": "code",
   "execution_count": null,
   "id": "8b871f21",
   "metadata": {},
   "outputs": [],
   "source": [
    "len(high_school_types)"
   ]
  },
  {
   "cell_type": "code",
   "execution_count": null,
   "id": "f712944d",
   "metadata": {},
   "outputs": [],
   "source": [
    "for schoolDict in high_school_types:\n",
    "    print(schoolDict)"
   ]
  },
  {
   "cell_type": "code",
   "execution_count": null,
   "id": "3c4d7d4b",
   "metadata": {},
   "outputs": [],
   "source": [
    "high_schools = [\"Huag High School\", \"Figueroa High School\", \"Shelton High School\", \"Hernandez High School\", \"Griffin High School\", \"Wilson High School\", \"Cabrera High School\", \"Bailey High School\", \"Holden High School\", \"Pena High School\", \"Wrigh High School\", \"Rodriguez high Scholl\", \"Jhonson High School\",\"Ford High School\", \"Thomas High School\"]"
   ]
  },
  {
   "cell_type": "code",
   "execution_count": null,
   "id": "61d204f7",
   "metadata": {},
   "outputs": [],
   "source": [
    "high_schools\n",
    "#len(high_schools)"
   ]
  },
  {
   "cell_type": "code",
   "execution_count": null,
   "id": "d4b8785b",
   "metadata": {},
   "outputs": [],
   "source": [
    "import pandas as pd"
   ]
  },
  {
   "cell_type": "code",
   "execution_count": null,
   "id": "dcba1a0a",
   "metadata": {},
   "outputs": [],
   "source": [
    "# Create a Pandas Series from a list\n",
    "school_series = pd.Series(high_schools)"
   ]
  },
  {
   "cell_type": "code",
   "execution_count": null,
   "id": "681c0e67",
   "metadata": {},
   "outputs": [],
   "source": [
    "school_series"
   ]
  },
  {
   "cell_type": "code",
   "execution_count": null,
   "id": "9b04e8e4",
   "metadata": {},
   "outputs": [],
   "source": [
    "for school in school_series:\n",
    "    print(school)"
   ]
  },
  {
   "cell_type": "code",
   "execution_count": null,
   "id": "8d396545",
   "metadata": {},
   "outputs": [],
   "source": [
    "school_id=[0,1,2,3,4]"
   ]
  },
  {
   "cell_type": "code",
   "execution_count": null,
   "id": "eea57fd3",
   "metadata": {},
   "outputs": [],
   "source": [
    "school_id"
   ]
  },
  {
   "cell_type": "code",
   "execution_count": null,
   "id": "b8ee9852",
   "metadata": {},
   "outputs": [],
   "source": [
    "school_name=[\"Huang High School\", \"Figueroa High School\",\n",
    "\"Shelton High School\", \"Hernandez High School\",\"Griffin High School\"]"
   ]
  },
  {
   "cell_type": "code",
   "execution_count": null,
   "id": "9c36555d",
   "metadata": {},
   "outputs": [],
   "source": [
    "school_name"
   ]
  },
  {
   "cell_type": "code",
   "execution_count": null,
   "id": "3a8af4bd",
   "metadata": {},
   "outputs": [],
   "source": [
    "type_of_school=[\"District\", \"District\", \"Charter\", \"District\",\"Charter\"]"
   ]
  },
  {
   "cell_type": "code",
   "execution_count": null,
   "id": "a7cf1387",
   "metadata": {},
   "outputs": [],
   "source": [
    "#List of dictionaries\n",
    "high_school_dicts = [{\"School ID\":0, \"school name\":\"Huang High School\",\"type\":\"District\"},\n",
    "                     {\"School ID\":1, \"school_name\":\"Figueroa High School\",\"type\":\"Distrcit\"},\n",
    "                     {\"School ID\":2, \"school_name\":\"Shelton High School\",\"type\":\"Charter\"},\n",
    "                     {\"School ID\":3, \"school_name\":\"Hernandez High School\",\"type\":\"District\"},\n",
    "                     {\"School ID\":4, \"school name\":\"Griffin High School\",'type':\"Charter\"}]"
   ]
  },
  {
   "cell_type": "code",
   "execution_count": null,
   "id": "4eca9723",
   "metadata": {},
   "outputs": [],
   "source": [
    "# Una lista de listas, no se para que pueden servir.\n",
    "high_school_dicts2 = [school_id,school_name]\n",
    "high_school_dicts2\n",
    "high_school_dicts2DF = pd.DataFrame(high_school_dicts2)\n",
    "high_school_dicts2DF"
   ]
  },
  {
   "cell_type": "code",
   "execution_count": null,
   "id": "26bce637",
   "metadata": {},
   "outputs": [],
   "source": [
    "high_school_dicts2 #Podriamos decir que al convertir una lista de listas a un data frame, inserta row by row"
   ]
  },
  {
   "cell_type": "code",
   "execution_count": null,
   "id": "00f4af89",
   "metadata": {},
   "outputs": [],
   "source": [
    "high_school_dicts"
   ]
  },
  {
   "cell_type": "code",
   "execution_count": null,
   "id": "ce8867de",
   "metadata": {},
   "outputs": [],
   "source": [
    "school_df = pd.DataFrame(high_school_dicts)"
   ]
  },
  {
   "cell_type": "code",
   "execution_count": null,
   "id": "2555deb1",
   "metadata": {},
   "outputs": [],
   "source": [
    "school_df\n",
    "len(school_df)"
   ]
  },
  {
   "cell_type": "code",
   "execution_count": null,
   "id": "1bc15ace",
   "metadata": {},
   "outputs": [],
   "source": [
    "#Creating a **Data Frame adding the list to the Data Frame**"
   ]
  },
  {
   "cell_type": "code",
   "execution_count": null,
   "id": "85e64c3e",
   "metadata": {},
   "outputs": [],
   "source": [
    "school_id = [0,1,2,3,4]\n",
    "school_name = [\"Huang High School\",\"Figueroa High School\",\"Shelton High School\",\"Hernandez High School\",\"Griffin High School\"]\n",
    "type_of_school = [\"District\", \"District\", \"Charter\", \"District\",\"Charter\"]"
   ]
  },
  {
   "cell_type": "code",
   "execution_count": null,
   "id": "f8233567",
   "metadata": {},
   "outputs": [],
   "source": [
    "# Initialize a new DataFrame\n",
    "schools_df = pd.DataFrame()"
   ]
  },
  {
   "cell_type": "code",
   "execution_count": null,
   "id": "9a5b945b",
   "metadata": {},
   "outputs": [],
   "source": [
    "# Add the lists to the new DataFrame,  One is the Tittle of the row and the other the name of the list\n",
    "schools_df[\"School ID\"] = school_id\n",
    "schools_df[\"school_name\"] = school_name\n",
    "schools_df[\"type\"] = type_of_school\n"
   ]
  },
  {
   "cell_type": "code",
   "execution_count": null,
   "id": "db9fb326",
   "metadata": {},
   "outputs": [],
   "source": []
  },
  {
   "cell_type": "code",
   "execution_count": null,
   "id": "31a71e19",
   "metadata": {},
   "outputs": [],
   "source": [
    "# Another way to create a  Python dictionary from the tree lists\n",
    "# Create a dictionary of information on high schools.\n",
    "high_schools_dict = {'School ID': school_id, 'school_name': school_name, 'type':type_of_school}"
   ]
  },
  {
   "cell_type": "code",
   "execution_count": null,
   "id": "6cf1759b",
   "metadata": {},
   "outputs": [],
   "source": [
    "high_schools_dict"
   ]
  },
  {
   "cell_type": "code",
   "execution_count": null,
   "id": "4b70c40a",
   "metadata": {},
   "outputs": [],
   "source": [
    "# Analysing the COLUMNS, INDEX AND VALUES attributes"
   ]
  },
  {
   "cell_type": "code",
   "execution_count": null,
   "id": "90de2825",
   "metadata": {},
   "outputs": [],
   "source": [
    "# COLUMNS ATTRIBUTE   df.columns\n",
    "school_df.columns"
   ]
  },
  {
   "cell_type": "code",
   "execution_count": null,
   "id": "9f7abd4d",
   "metadata": {},
   "outputs": [],
   "source": [
    "# INDEX ATTRIBUTE    df.index\n",
    "school_df.index"
   ]
  },
  {
   "cell_type": "code",
   "execution_count": null,
   "id": "91877c98",
   "metadata": {},
   "outputs": [],
   "source": [
    "# VALUES ATTRIBUTE   df.values\n",
    "school_df.values"
   ]
  },
  {
   "cell_type": "code",
   "execution_count": null,
   "id": "dd7b30b9",
   "metadata": {},
   "outputs": [],
   "source": [
    "# Now we convert the python dictionary to a Data Frame\n"
   ]
  },
  {
   "cell_type": "code",
   "execution_count": null,
   "id": "b8d30dab",
   "metadata": {},
   "outputs": [],
   "source": [
    "# **Creating lists and Adding to a DATA FRAME. CANVAS EXERCISE 4.3.5**\n"
   ]
  },
  {
   "cell_type": "code",
   "execution_count": 46,
   "id": "3e6c3ec3",
   "metadata": {},
   "outputs": [
    {
     "data": {
      "text/plain": [
       "[0, 1, 2, 3, 4, 5, 6, 7, 8, 9, 10, 11, 12, 13, 14]"
      ]
     },
     "execution_count": 46,
     "metadata": {},
     "output_type": "execute_result"
    }
   ],
   "source": [
    "school_id = [0,1,2,3,4,5,6,7,8,9,10,11,12,13,14]\n",
    "school_id"
   ]
  },
  {
   "cell_type": "code",
   "execution_count": 47,
   "id": "4cdf2f93",
   "metadata": {},
   "outputs": [
    {
     "data": {
      "text/plain": [
       "['Huang High School',\n",
       " 'Figueroa High School',\n",
       " 'Shelton High School',\n",
       " 'Hernandez High School',\n",
       " 'Griffin High School',\n",
       " 'Wilson High School',\n",
       " 'Cabrera High School',\n",
       " 'Bailey High School',\n",
       " 'Holden High School',\n",
       " 'Pena High School',\n",
       " 'Wright High School',\n",
       " 'Rodriguez High School',\n",
       " 'Jhonson High School',\n",
       " 'Ford High School',\n",
       " 'Thomas High School']"
      ]
     },
     "execution_count": 47,
     "metadata": {},
     "output_type": "execute_result"
    }
   ],
   "source": [
    "school_name = ['Huang High School',\n",
    "  'Figueroa High School',\n",
    "  'Shelton High School',\n",
    "  'Hernandez High School',\n",
    "  'Griffin High School',\n",
    "  'Wilson High School',\n",
    "  'Cabrera High School',\n",
    "  'Bailey High School',\n",
    "  'Holden High School',\n",
    "  'Pena High School', \n",
    "  'Wright High School',\n",
    "  'Rodriguez High School',\n",
    "  'Jhonson High School',\n",
    "  'Ford High School',\n",
    "  'Thomas High School']\n",
    "school_name"
   ]
  },
  {
   "cell_type": "code",
   "execution_count": 48,
   "id": "77a2b0cb",
   "metadata": {},
   "outputs": [],
   "source": [
    "type_of_school = ['District', 'District', 'Charter', 'District', 'Charter','Charter','Charter','District','Charter','Charter','Charter','District','District','District','Charter']\n"
   ]
  },
  {
   "cell_type": "code",
   "execution_count": 49,
   "id": "7ef2caa5",
   "metadata": {},
   "outputs": [],
   "source": [
    "schools_df2 = pd.DataFrame()"
   ]
  },
  {
   "cell_type": "code",
   "execution_count": 50,
   "id": "29db5e15",
   "metadata": {},
   "outputs": [],
   "source": [
    "schools_df2['School ID'] = school_id\n",
    "schools_df2['school_name'] = school_name\n",
    "schools_df2['type'] = type_of_school"
   ]
  },
  {
   "cell_type": "code",
   "execution_count": 51,
   "id": "0944d2d1",
   "metadata": {},
   "outputs": [
    {
     "data": {
      "text/html": [
       "<div>\n",
       "<style scoped>\n",
       "    .dataframe tbody tr th:only-of-type {\n",
       "        vertical-align: middle;\n",
       "    }\n",
       "\n",
       "    .dataframe tbody tr th {\n",
       "        vertical-align: top;\n",
       "    }\n",
       "\n",
       "    .dataframe thead th {\n",
       "        text-align: right;\n",
       "    }\n",
       "</style>\n",
       "<table border=\"1\" class=\"dataframe\">\n",
       "  <thead>\n",
       "    <tr style=\"text-align: right;\">\n",
       "      <th></th>\n",
       "      <th>School ID</th>\n",
       "      <th>school_name</th>\n",
       "      <th>type</th>\n",
       "    </tr>\n",
       "  </thead>\n",
       "  <tbody>\n",
       "    <tr>\n",
       "      <th>0</th>\n",
       "      <td>0</td>\n",
       "      <td>Huang High School</td>\n",
       "      <td>District</td>\n",
       "    </tr>\n",
       "    <tr>\n",
       "      <th>1</th>\n",
       "      <td>1</td>\n",
       "      <td>Figueroa High School</td>\n",
       "      <td>District</td>\n",
       "    </tr>\n",
       "    <tr>\n",
       "      <th>2</th>\n",
       "      <td>2</td>\n",
       "      <td>Shelton High School</td>\n",
       "      <td>Charter</td>\n",
       "    </tr>\n",
       "    <tr>\n",
       "      <th>3</th>\n",
       "      <td>3</td>\n",
       "      <td>Hernandez High School</td>\n",
       "      <td>District</td>\n",
       "    </tr>\n",
       "    <tr>\n",
       "      <th>4</th>\n",
       "      <td>4</td>\n",
       "      <td>Griffin High School</td>\n",
       "      <td>Charter</td>\n",
       "    </tr>\n",
       "    <tr>\n",
       "      <th>5</th>\n",
       "      <td>5</td>\n",
       "      <td>Wilson High School</td>\n",
       "      <td>Charter</td>\n",
       "    </tr>\n",
       "    <tr>\n",
       "      <th>6</th>\n",
       "      <td>6</td>\n",
       "      <td>Cabrera High School</td>\n",
       "      <td>Charter</td>\n",
       "    </tr>\n",
       "    <tr>\n",
       "      <th>7</th>\n",
       "      <td>7</td>\n",
       "      <td>Bailey High School</td>\n",
       "      <td>District</td>\n",
       "    </tr>\n",
       "    <tr>\n",
       "      <th>8</th>\n",
       "      <td>8</td>\n",
       "      <td>Holden High School</td>\n",
       "      <td>Charter</td>\n",
       "    </tr>\n",
       "    <tr>\n",
       "      <th>9</th>\n",
       "      <td>9</td>\n",
       "      <td>Pena High School</td>\n",
       "      <td>Charter</td>\n",
       "    </tr>\n",
       "    <tr>\n",
       "      <th>10</th>\n",
       "      <td>10</td>\n",
       "      <td>Wright High School</td>\n",
       "      <td>Charter</td>\n",
       "    </tr>\n",
       "    <tr>\n",
       "      <th>11</th>\n",
       "      <td>11</td>\n",
       "      <td>Rodriguez High School</td>\n",
       "      <td>District</td>\n",
       "    </tr>\n",
       "    <tr>\n",
       "      <th>12</th>\n",
       "      <td>12</td>\n",
       "      <td>Jhonson High School</td>\n",
       "      <td>District</td>\n",
       "    </tr>\n",
       "    <tr>\n",
       "      <th>13</th>\n",
       "      <td>13</td>\n",
       "      <td>Ford High School</td>\n",
       "      <td>District</td>\n",
       "    </tr>\n",
       "    <tr>\n",
       "      <th>14</th>\n",
       "      <td>14</td>\n",
       "      <td>Thomas High School</td>\n",
       "      <td>Charter</td>\n",
       "    </tr>\n",
       "  </tbody>\n",
       "</table>\n",
       "</div>"
      ],
      "text/plain": [
       "    School ID            school_name      type\n",
       "0           0      Huang High School  District\n",
       "1           1   Figueroa High School  District\n",
       "2           2    Shelton High School   Charter\n",
       "3           3  Hernandez High School  District\n",
       "4           4    Griffin High School   Charter\n",
       "5           5     Wilson High School   Charter\n",
       "6           6    Cabrera High School   Charter\n",
       "7           7     Bailey High School  District\n",
       "8           8     Holden High School   Charter\n",
       "9           9       Pena High School   Charter\n",
       "10         10     Wright High School   Charter\n",
       "11         11  Rodriguez High School  District\n",
       "12         12    Jhonson High School  District\n",
       "13         13       Ford High School  District\n",
       "14         14     Thomas High School   Charter"
      ]
     },
     "execution_count": 51,
     "metadata": {},
     "output_type": "execute_result"
    }
   ],
   "source": [
    "schools_df2"
   ]
  },
  {
   "cell_type": "code",
   "execution_count": null,
   "id": "0033ee89",
   "metadata": {},
   "outputs": [],
   "source": []
  }
 ],
 "metadata": {
  "kernelspec": {
   "display_name": "PythonData",
   "language": "python",
   "name": "pythondata"
  },
  "language_info": {
   "codemirror_mode": {
    "name": "ipython",
    "version": 3
   },
   "file_extension": ".py",
   "mimetype": "text/x-python",
   "name": "python",
   "nbconvert_exporter": "python",
   "pygments_lexer": "ipython3",
   "version": "3.7.11"
  }
 },
 "nbformat": 4,
 "nbformat_minor": 5
}
